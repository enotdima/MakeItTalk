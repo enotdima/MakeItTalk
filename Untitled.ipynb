{
 "cells": [
  {
   "cell_type": "code",
   "execution_count": 1,
   "id": "20100264",
   "metadata": {},
   "outputs": [
    {
     "name": "stdout",
     "output_type": "stream",
     "text": [
      "Requirement already satisfied: pydub in /home/user/miniconda/lib/python3.8/site-packages (0.25.1)\r\n"
     ]
    }
   ],
   "source": [
    "!pip install pydub"
   ]
  },
  {
   "cell_type": "code",
   "execution_count": 8,
   "id": "65c3ec1d",
   "metadata": {},
   "outputs": [],
   "source": [
    "import pydub\n",
    "for name in glob.glob1('examples/obama', '*.mp3'):\n",
    "    sound = pydub.AudioSegment.from_mp3(\"examples/obama/\"+ name)\n",
    "    sound.export(f\"examples/{name.split('.')[0]}.wav\", format=\"wav\")"
   ]
  },
  {
   "cell_type": "code",
   "execution_count": 2,
   "id": "e32f00a7",
   "metadata": {},
   "outputs": [],
   "source": [
    "import glob"
   ]
  },
  {
   "cell_type": "code",
   "execution_count": 7,
   "id": "17dd2534",
   "metadata": {},
   "outputs": [
    {
     "data": {
      "text/plain": [
       "['Obama_real_another', 'mp3']"
      ]
     },
     "execution_count": 7,
     "metadata": {},
     "output_type": "execute_result"
    }
   ],
   "source": [
    "glob.glob1('examples/obama', '*.mp3')[0].split('.')[0]"
   ]
  },
  {
   "cell_type": "code",
   "execution_count": 16,
   "id": "45f20a09",
   "metadata": {},
   "outputs": [
    {
     "data": {
      "text/plain": [
       "True"
      ]
     },
     "execution_count": 16,
     "metadata": {},
     "output_type": "execute_result"
    }
   ],
   "source": [
    "import cv2 \n",
    "\n",
    "image = cv2.imread('examples/fei_painted_1.png')\n",
    "\n",
    "# Save .jpg image\n",
    "cv2.imwrite('examples/fei_painted_1.jpg', image, [int(cv2.IMWRITE_JPEG_QUALITY), 100])"
   ]
  },
  {
   "cell_type": "code",
   "execution_count": 13,
   "id": "b6aeb67d",
   "metadata": {},
   "outputs": [],
   "source": [
    "image"
   ]
  },
  {
   "cell_type": "code",
   "execution_count": 17,
   "id": "df605d7c",
   "metadata": {},
   "outputs": [],
   "source": [
    "for name in glob.glob1('examples/fei', '*.mp3'):\n",
    "    sound = pydub.AudioSegment.from_mp3(\"examples/fei/\"+ name)\n",
    "    sound.export(f\"examples/{name.split('.')[0]}.wav\", format=\"wav\")"
   ]
  },
  {
   "cell_type": "code",
   "execution_count": 18,
   "id": "9b8a8fdb",
   "metadata": {},
   "outputs": [],
   "source": [
    "for name in glob.glob1('examples/swift', '*.mp3'):\n",
    "    sound = pydub.AudioSegment.from_mp3(\"examples/swift/\"+ name)\n",
    "    sound.export(f\"examples/{name.split('.')[0]}.wav\", format=\"wav\")"
   ]
  },
  {
   "cell_type": "code",
   "execution_count": 20,
   "id": "f94aa7af",
   "metadata": {},
   "outputs": [],
   "source": [
    "for name in glob.glob1('examples/whitman', '*.mp3'):\n",
    "    sound = pydub.AudioSegment.from_mp3(\"examples/whitman/\"+ name)\n",
    "    sound.export(f\"examples/{name.split('.')[0]}.wav\", format=\"wav\")"
   ]
  },
  {
   "cell_type": "code",
   "execution_count": 21,
   "id": "96cefb17",
   "metadata": {},
   "outputs": [],
   "source": [
    "for name in glob.glob1('examples/rabbit', '*.mp3'):\n",
    "    sound = pydub.AudioSegment.from_mp3(\"examples/rabbit/\"+ name)\n",
    "    sound.export(f\"examples/{name.split('.')[0]}.wav\", format=\"wav\")"
   ]
  },
  {
   "cell_type": "code",
   "execution_count": null,
   "id": "714b615e",
   "metadata": {},
   "outputs": [],
   "source": []
  }
 ],
 "metadata": {
  "kernelspec": {
   "display_name": "Python 3",
   "language": "python",
   "name": "python3"
  },
  "language_info": {
   "codemirror_mode": {
    "name": "ipython",
    "version": 3
   },
   "file_extension": ".py",
   "mimetype": "text/x-python",
   "name": "python",
   "nbconvert_exporter": "python",
   "pygments_lexer": "ipython3",
   "version": "3.8.3"
  }
 },
 "nbformat": 4,
 "nbformat_minor": 5
}
